{
 "cells": [
  {
   "attachments": {},
   "cell_type": "markdown",
   "metadata": {},
   "source": [
    "## Semana 07\n",
    "**Jairo Daniel Mendoza Torres**\n",
    "### Temas:\n",
    "1. Numeros\n",
    "2. Variables\n",
    "3. Manejo de cadenas\n",
    "4. Ingreso de Datos por el teclado\n",
    "5. Operadores"
   ]
  },
  {
   "attachments": {},
   "cell_type": "markdown",
   "metadata": {},
   "source": [
    "***5. Operadores***"
   ]
  },
  {
   "cell_type": "code",
   "execution_count": 1,
   "metadata": {},
   "outputs": [],
   "source": [
    "# 5.1 Operadores aritméticos\n",
    "# Se tiene: +, -, *, /, **, %, //"
   ]
  },
  {
   "cell_type": "code",
   "execution_count": 5,
   "metadata": {},
   "outputs": [
    {
     "name": "stdout",
     "output_type": "stream",
     "text": [
      "13\n",
      "7\n",
      "30\n",
      "3.3333333333333335\n",
      "1\n",
      "1000\n",
      "3\n"
     ]
    }
   ],
   "source": [
    "numero1 = 10\n",
    "numero2 = 3\n",
    "suma = numero1 + numero2\n",
    "resta = numero1 - numero2\n",
    "multiplicacion = numero1 * numero2\n",
    "division = numero1 / numero2\n",
    "residuo = numero1%numero2\n",
    "potencia = numero1**numero2\n",
    "cociente = numero1//numero2\n",
    "\n",
    "print(suma)\n",
    "print(resta)\n",
    "print(multiplicacion)\n",
    "print(division)\n",
    "print(residuo)\n",
    "print(potencia)\n",
    "print(cociente)\n"
   ]
  },
  {
   "cell_type": "code",
   "execution_count": 6,
   "metadata": {},
   "outputs": [
    {
     "name": "stdout",
     "output_type": "stream",
     "text": [
      "8\n"
     ]
    }
   ],
   "source": [
    "# 5.2 Operadores de asignación\n",
    "# Se tiene : =, +=, -=, *=, /=, **=\n",
    "numero = 5\n",
    "numero = numero + 3\n",
    "print(numero)"
   ]
  },
  {
   "cell_type": "code",
   "execution_count": 8,
   "metadata": {},
   "outputs": [
    {
     "name": "stdout",
     "output_type": "stream",
     "text": [
      "8\n"
     ]
    }
   ],
   "source": [
    "# La operación anterior tambien se puede expresar de las siguiente manera:\n",
    "numero = 5\n",
    "numero += 3\n",
    "print(numero)"
   ]
  },
  {
   "cell_type": "code",
   "execution_count": 10,
   "metadata": {},
   "outputs": [
    {
     "name": "stdout",
     "output_type": "stream",
     "text": [
      "125\n"
     ]
    }
   ],
   "source": [
    "# Lo mismo se puede hacer con todos los casos, incluso la potencia\n",
    "# Veamos otro ejemplo \n",
    "numero = 5\n",
    "numero = numero ** 3\n",
    "print(numero)"
   ]
  },
  {
   "cell_type": "code",
   "execution_count": 11,
   "metadata": {},
   "outputs": [
    {
     "name": "stdout",
     "output_type": "stream",
     "text": [
      "125\n"
     ]
    }
   ],
   "source": [
    "# Las operación anterior tambien se puede expresar de la siguiente manera: \n",
    "numero = 5\n",
    "numero **= 3\n",
    "print(numero)"
   ]
  },
  {
   "cell_type": "code",
   "execution_count": 14,
   "metadata": {},
   "outputs": [
    {
     "data": {
      "text/plain": [
       "False"
      ]
     },
     "execution_count": 14,
     "metadata": {},
     "output_type": "execute_result"
    }
   ],
   "source": [
    "# 5.3 Operadores de comparación\n",
    "# Se tiene: ==, !=, <, >, <=, >=\n",
    "numero1 = 5\n",
    "numero2 = 2\n",
    "numero1 == numero2"
   ]
  },
  {
   "cell_type": "code",
   "execution_count": 15,
   "metadata": {},
   "outputs": [
    {
     "data": {
      "text/plain": [
       "True"
      ]
     },
     "execution_count": 15,
     "metadata": {},
     "output_type": "execute_result"
    }
   ],
   "source": [
    "# COn las cadenas funciona igual\n",
    "nombre1 = \"jairo\"\n",
    "nombre2 = \"jairo\"\n",
    "nombre1 == nombre2"
   ]
  },
  {
   "cell_type": "code",
   "execution_count": 18,
   "metadata": {},
   "outputs": [],
   "source": [
    "# 5.4 Operadores lógicos\n",
    "# Se tiene and, or, not\n",
    "numero1 = 5\n",
    "numero2 = 6\n",
    "numero3 = 7\n",
    "numero4 = 8"
   ]
  },
  {
   "cell_type": "code",
   "execution_count": 19,
   "metadata": {},
   "outputs": [
    {
     "data": {
      "text/plain": [
       "True"
      ]
     },
     "execution_count": 19,
     "metadata": {},
     "output_type": "execute_result"
    }
   ],
   "source": [
    "numero1 < numero2"
   ]
  },
  {
   "cell_type": "code",
   "execution_count": 20,
   "metadata": {},
   "outputs": [
    {
     "data": {
      "text/plain": [
       "False"
      ]
     },
     "execution_count": 20,
     "metadata": {},
     "output_type": "execute_result"
    }
   ],
   "source": [
    "# EL not invierte el resultado\n",
    "not(numero1 < numero2)"
   ]
  },
  {
   "cell_type": "code",
   "execution_count": 21,
   "metadata": {},
   "outputs": [
    {
     "data": {
      "text/plain": [
       "True"
      ]
     },
     "execution_count": 21,
     "metadata": {},
     "output_type": "execute_result"
    }
   ],
   "source": [
    "numero1<numero2 and numero3<numero4"
   ]
  },
  {
   "cell_type": "code",
   "execution_count": 22,
   "metadata": {},
   "outputs": [
    {
     "data": {
      "text/plain": [
       "True"
      ]
     },
     "execution_count": 22,
     "metadata": {},
     "output_type": "execute_result"
    }
   ],
   "source": [
    "# Tambien puedes utilizar parentesis para odenar tu operación\n",
    "(numero1<numero2 and numero3< numero4) or (numero3>numero4)"
   ]
  },
  {
   "cell_type": "code",
   "execution_count": 23,
   "metadata": {},
   "outputs": [],
   "source": [
    "# 5.5 Operadores de Pertenencia \n",
    "# Se tiene: inm not in "
   ]
  },
  {
   "cell_type": "code",
   "execution_count": 24,
   "metadata": {},
   "outputs": [],
   "source": [
    "# Miremos un ejemplo:\n",
    "aula = [\"Jairo\", \"Daniel\", \"Armando\"]\n",
    "alumno1 = \"Jairo\"\n",
    "alumno2 = \"Daniel\""
   ]
  },
  {
   "cell_type": "code",
   "execution_count": 25,
   "metadata": {},
   "outputs": [
    {
     "data": {
      "text/plain": [
       "True"
      ]
     },
     "execution_count": 25,
     "metadata": {},
     "output_type": "execute_result"
    }
   ],
   "source": [
    "# ¿Jairo esta en el aula?\n",
    "alumno1 in aula"
   ]
  },
  {
   "cell_type": "code",
   "execution_count": 27,
   "metadata": {},
   "outputs": [
    {
     "data": {
      "text/plain": [
       "True"
      ]
     },
     "execution_count": 27,
     "metadata": {},
     "output_type": "execute_result"
    }
   ],
   "source": [
    "# ¿Daniel esta en aula?\n",
    "alumno2 in aula"
   ]
  },
  {
   "cell_type": "code",
   "execution_count": 29,
   "metadata": {},
   "outputs": [
    {
     "data": {
      "text/plain": [
       "False"
      ]
     },
     "execution_count": 29,
     "metadata": {},
     "output_type": "execute_result"
    }
   ],
   "source": [
    "# ¿Jairo no esta en aula?\n",
    "alumno1 not in aula"
   ]
  },
  {
   "cell_type": "code",
   "execution_count": 30,
   "metadata": {},
   "outputs": [
    {
     "data": {
      "text/plain": [
       "False"
      ]
     },
     "execution_count": 30,
     "metadata": {},
     "output_type": "execute_result"
    }
   ],
   "source": [
    "# ¿Daniel no esta en aula?\n",
    "alumno2 not in aula"
   ]
  },
  {
   "cell_type": "code",
   "execution_count": 31,
   "metadata": {},
   "outputs": [],
   "source": [
    "# 5.6 Operadores de indentidad \n",
    "# Se tiene: is, is not"
   ]
  },
  {
   "cell_type": "code",
   "execution_count": 32,
   "metadata": {},
   "outputs": [],
   "source": [
    "aula1  = [\"Juan\", \"Daniel\", \"Ruben\"]\n",
    "aula2  = [\"Juan\", \"Daniel\", \"Ruben\"]\n",
    "# A continuación vamos a indicar que  aula3 va a compartir el mismo objeto que aula1\n",
    "aula3  = aula1"
   ]
  },
  {
   "cell_type": "code",
   "execution_count": 33,
   "metadata": {},
   "outputs": [
    {
     "data": {
      "text/plain": [
       "True"
      ]
     },
     "execution_count": 33,
     "metadata": {},
     "output_type": "execute_result"
    }
   ],
   "source": [
    "# ¿Aula 3 comparte el mismo objeto que aula1?\n",
    "aula3 is aula1"
   ]
  },
  {
   "cell_type": "code",
   "execution_count": 34,
   "metadata": {},
   "outputs": [
    {
     "data": {
      "text/plain": [
       "False"
      ]
     },
     "execution_count": 34,
     "metadata": {},
     "output_type": "execute_result"
    }
   ],
   "source": [
    "# ¿Aula 3 comparte el mismo objeto que aula2?\n",
    "aula3 is aula2"
   ]
  },
  {
   "cell_type": "code",
   "execution_count": 35,
   "metadata": {},
   "outputs": [
    {
     "data": {
      "text/plain": [
       "False"
      ]
     },
     "execution_count": 35,
     "metadata": {},
     "output_type": "execute_result"
    }
   ],
   "source": [
    "# ¿aula2 comparte el mismo objeto que con aula1?\n",
    "aula2 is aula1"
   ]
  },
  {
   "cell_type": "code",
   "execution_count": 36,
   "metadata": {},
   "outputs": [],
   "source": [
    "aula1.append(\"Diego\")"
   ]
  },
  {
   "cell_type": "code",
   "execution_count": 37,
   "metadata": {},
   "outputs": [
    {
     "name": "stdout",
     "output_type": "stream",
     "text": [
      "['Juan', 'Daniel', 'Ruben', 'Diego']\n"
     ]
    }
   ],
   "source": [
    "# Al imprimir los elementos de la lista aula1 se observa\n",
    "print (aula1)"
   ]
  },
  {
   "cell_type": "code",
   "execution_count": 41,
   "metadata": {},
   "outputs": [
    {
     "name": "stdout",
     "output_type": "stream",
     "text": [
      "['Juan', 'Daniel', 'Ruben', 'Diego']\n"
     ]
    }
   ],
   "source": [
    "# Al imprimir los elementos de la lista aula3 se observa\n",
    "print(aula3)"
   ]
  },
  {
   "cell_type": "code",
   "execution_count": 43,
   "metadata": {},
   "outputs": [
    {
     "name": "stdout",
     "output_type": "stream",
     "text": [
      "['Juan', 'Daniel', 'Ruben']\n"
     ]
    }
   ],
   "source": [
    "# Al imprimir los elementos de la lista aula2 se observa\n",
    "print(aula2)"
   ]
  },
  {
   "cell_type": "code",
   "execution_count": null,
   "metadata": {},
   "outputs": [],
   "source": []
  }
 ],
 "metadata": {
  "kernelspec": {
   "display_name": "base",
   "language": "python",
   "name": "python3"
  },
  "language_info": {
   "codemirror_mode": {
    "name": "ipython",
    "version": 3
   },
   "file_extension": ".py",
   "mimetype": "text/x-python",
   "name": "python",
   "nbconvert_exporter": "python",
   "pygments_lexer": "ipython3",
   "version": "3.9.12"
  },
  "orig_nbformat": 4
 },
 "nbformat": 4,
 "nbformat_minor": 2
}
