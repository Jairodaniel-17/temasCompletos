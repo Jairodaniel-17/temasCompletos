{
 "cells": [
  {
   "attachments": {},
   "cell_type": "markdown",
   "id": "20bd6db5",
   "metadata": {},
   "source": [
    "# Semana 07\n",
    "Jairo Daniel Mendoza Torres\n",
    "## Temas:\n",
    "1. Numeros\n",
    "2. Variables\n",
    "3. Manejo de cadenas\n",
    "4. Ingreso de Datos por el teclado\n",
    "5. Operadores"
   ]
  },
  {
   "cell_type": "code",
   "execution_count": 2,
   "id": "579e0b3d",
   "metadata": {},
   "outputs": [],
   "source": [
    "# Siempre deben iniciar con una letra o un guión abajo. (Nunca con un número u otro símnbolo)"
   ]
  },
  {
   "cell_type": "code",
   "execution_count": 3,
   "id": "a4805f1b",
   "metadata": {},
   "outputs": [],
   "source": [
    "edad = 21"
   ]
  },
  {
   "cell_type": "code",
   "execution_count": 4,
   "id": "65a6b656",
   "metadata": {},
   "outputs": [
    {
     "data": {
      "text/plain": [
       "21"
      ]
     },
     "execution_count": 4,
     "metadata": {},
     "output_type": "execute_result"
    }
   ],
   "source": [
    "edad"
   ]
  },
  {
   "cell_type": "code",
   "execution_count": 5,
   "id": "5e397744",
   "metadata": {},
   "outputs": [],
   "source": [
    "nombre = \"Jairo\""
   ]
  },
  {
   "cell_type": "code",
   "execution_count": 6,
   "id": "4169b96f",
   "metadata": {},
   "outputs": [],
   "source": [
    "apellido = \"Mendoza Torres\""
   ]
  },
  {
   "cell_type": "code",
   "execution_count": 7,
   "id": "dc463bbb",
   "metadata": {},
   "outputs": [
    {
     "data": {
      "text/plain": [
       "'Mendoza Torres'"
      ]
     },
     "execution_count": 7,
     "metadata": {},
     "output_type": "execute_result"
    }
   ],
   "source": [
    "apellido"
   ]
  },
  {
   "cell_type": "code",
   "execution_count": 8,
   "id": "b8ca2510",
   "metadata": {},
   "outputs": [
    {
     "data": {
      "text/plain": [
       "'JairoMendoza Torres'"
      ]
     },
     "execution_count": 8,
     "metadata": {},
     "output_type": "execute_result"
    }
   ],
   "source": [
    "nombrecompleto = nombre + apellido\n",
    "nombrecompleto"
   ]
  },
  {
   "cell_type": "code",
   "execution_count": 10,
   "id": "6a86f1ae",
   "metadata": {},
   "outputs": [
    {
     "data": {
      "text/plain": [
       "'Jairo Mendoza Torres'"
      ]
     },
     "execution_count": 10,
     "metadata": {},
     "output_type": "execute_result"
    }
   ],
   "source": [
    "nombrecompleto = nombre + \" \" + apellido\n",
    "nombrecompleto"
   ]
  },
  {
   "cell_type": "code",
   "execution_count": 21,
   "id": "67823513",
   "metadata": {},
   "outputs": [
    {
     "name": "stdout",
     "output_type": "stream",
     "text": [
      "50\n"
     ]
    },
    {
     "data": {
      "text/plain": [
       "int"
      ]
     },
     "execution_count": 21,
     "metadata": {},
     "output_type": "execute_result"
    }
   ],
   "source": [
    "# Para saber el tipo de variable utilizamos la función type()\n",
    "numero = 50\n",
    "print(numero)\n",
    "type(numero)\n"
   ]
  },
  {
   "cell_type": "code",
   "execution_count": null,
   "id": "ed0c1b29",
   "metadata": {},
   "outputs": [],
   "source": [
    "talla = 1.75\n",
    "print(talla)\n",
    "type(talla)"
   ]
  },
  {
   "cell_type": "code",
   "execution_count": 17,
   "id": "693e9a08",
   "metadata": {},
   "outputs": [
    {
     "data": {
      "text/plain": [
       "'100'"
      ]
     },
     "execution_count": 17,
     "metadata": {},
     "output_type": "execute_result"
    }
   ],
   "source": [
    "#para convertir un numero en cadena utilizamos str()\n",
    "numero = 100\n",
    "cadena = str(numero)\n",
    "cadena"
   ]
  },
  {
   "cell_type": "code",
   "execution_count": 18,
   "id": "b8747ba6",
   "metadata": {},
   "outputs": [
    {
     "data": {
      "text/plain": [
       "str"
      ]
     },
     "execution_count": 18,
     "metadata": {},
     "output_type": "execute_result"
    }
   ],
   "source": [
    "type(cadena)"
   ]
  },
  {
   "cell_type": "code",
   "execution_count": 23,
   "id": "a8637136",
   "metadata": {},
   "outputs": [
    {
     "data": {
      "text/plain": [
       "50.0"
      ]
     },
     "execution_count": 23,
     "metadata": {},
     "output_type": "execute_result"
    }
   ],
   "source": [
    "# Para convertir una cadena en un entero utilizamos int()\n",
    "cadena2 = \"50\"\n",
    "numero2 =float(cadena2)\n",
    "numero2"
   ]
  },
  {
   "cell_type": "code",
   "execution_count": 24,
   "id": "d60ac085",
   "metadata": {},
   "outputs": [
    {
     "data": {
      "text/plain": [
       "float"
      ]
     },
     "execution_count": 24,
     "metadata": {},
     "output_type": "execute_result"
    }
   ],
   "source": [
    "type(numero2)"
   ]
  },
  {
   "cell_type": "code",
   "execution_count": null,
   "id": "3cbdb185",
   "metadata": {},
   "outputs": [],
   "source": []
  }
 ],
 "metadata": {
  "kernelspec": {
   "display_name": "Python 3 (ipykernel)",
   "language": "python",
   "name": "python3"
  },
  "language_info": {
   "codemirror_mode": {
    "name": "ipython",
    "version": 3
   },
   "file_extension": ".py",
   "mimetype": "text/x-python",
   "name": "python",
   "nbconvert_exporter": "python",
   "pygments_lexer": "ipython3",
   "version": "3.9.12"
  }
 },
 "nbformat": 4,
 "nbformat_minor": 5
}
